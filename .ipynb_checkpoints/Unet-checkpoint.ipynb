{
 "cells": [
  {
   "cell_type": "markdown",
   "metadata": {},
   "source": [
    "# Import required packages"
   ]
  },
  {
   "cell_type": "code",
   "execution_count": 1,
   "metadata": {
    "tags": []
   },
   "outputs": [
    {
     "name": "stdout",
     "output_type": "stream",
     "text": [
      "Requirement already satisfied: opencv-python in /home/ec2-user/anaconda3/envs/tensorflow2_p310/lib/python3.10/site-packages (4.8.0.74)\n",
      "Requirement already satisfied: numpy>=1.21.2 in /home/ec2-user/anaconda3/envs/tensorflow2_p310/lib/python3.10/site-packages (from opencv-python) (1.25.1)\n",
      "Note: you may need to restart the kernel to use updated packages.\n"
     ]
    }
   ],
   "source": [
    "pip install opencv-python"
   ]
  },
  {
   "cell_type": "code",
   "execution_count": 2,
   "metadata": {
    "tags": []
   },
   "outputs": [],
   "source": [
    "from pickle import load\n",
    "import numpy as np\n",
    "import cv2\n",
    "import pandas as pd\n",
    "import matplotlib.pyplot as plt\n",
    "import gc"
   ]
  },
  {
   "cell_type": "code",
   "execution_count": 3,
   "metadata": {
    "tags": []
   },
   "outputs": [],
   "source": [
    "import tensorflow as tf"
   ]
  },
  {
   "cell_type": "code",
   "execution_count": 4,
   "metadata": {
    "tags": []
   },
   "outputs": [],
   "source": [
    "import keras.layers as L\n",
    "from keras.preprocessing.image import ImageDataGenerator\n",
    "from keras.layers import Conv2D\n",
    "from keras.layers import UpSampling2D\n",
    "from keras.models import Model\n",
    "from keras.layers import Input\n",
    "from keras.layers import Dense\n",
    "from keras.layers import Dropout\n",
    "from keras.layers import RepeatVector\n",
    "from keras.layers import Reshape\n",
    "from keras.layers import concatenate\n",
    "from keras.utils import plot_model"
   ]
  },
  {
   "cell_type": "markdown",
   "metadata": {},
   "source": [
    "# reading files from s3 bucket"
   ]
  },
  {
   "cell_type": "code",
   "execution_count": 5,
   "metadata": {
    "tags": []
   },
   "outputs": [],
   "source": [
    "import os\n",
    "import sagemaker\n",
    "from sagemaker import get_execution_role\n",
    "\n",
    "sagemaker_session = sagemaker.Session()\n",
    "\n",
    "role = get_execution_role()\n",
    "region = sagemaker_session.boto_session.region_name"
   ]
  },
  {
   "cell_type": "code",
   "execution_count": 6,
   "metadata": {},
   "outputs": [],
   "source": [
    "import boto3\n",
    "import sys\n",
    "import os\n",
    "import pandas as pd\n",
    "import csv\n",
    "import io"
   ]
  },
  {
   "cell_type": "markdown",
   "metadata": {},
   "source": [
    "s3_client =boto3.client('s3')\n",
    "s3_bucket_name='recolourise'\n",
    "s3 = boto3.resource('s3',\n",
    "                    aws_access_key_id= 'YOUR_ACCESS_KEY_ID',\n",
    "                    aws_secret_access_key='YOUR_SECRET_ACCESS_KEY')"
   ]
  },
  {
   "cell_type": "code",
   "execution_count": 7,
   "metadata": {
    "tags": []
   },
   "outputs": [],
   "source": [
    "training_data_uri = 's3://recolorising/processed/'"
   ]
  },
  {
   "cell_type": "code",
   "execution_count": 10,
   "metadata": {
    "tags": []
   },
   "outputs": [
    {
     "name": "stdout",
     "output_type": "stream",
     "text": [
      "2023-08-26 08:45:03     261991 NLP.png\n",
      "2023-08-26 08:54:23  451584128 small_set_LAB_3000.npy\n"
     ]
    }
   ],
   "source": [
    "#Check the contents of the uri\n",
    "# !aws s3 ls $training_data_uri/"
   ]
  },
  {
   "cell_type": "code",
   "execution_count": 8,
   "metadata": {
    "collapsed": true,
    "jupyter": {
     "outputs_hidden": true
    },
    "tags": []
   },
   "outputs": [],
   "source": [
    "from s3fs.core import S3FileSystem\n",
    "s3 = S3FileSystem()"
   ]
  },
  {
   "cell_type": "code",
   "execution_count": 13,
   "metadata": {
    "tags": []
   },
   "outputs": [],
   "source": [
    "train_key = 'processed/train.npy'\n",
    "test_key = 'processed/test.npy'\n",
    "gray_test_key = 'processed/gray_test.npy'\n",
    "gray_train_key = 'processed/gray_train.npy'\n",
    "bucket = 'recolorising'"
   ]
  },
  {
   "cell_type": "code",
   "execution_count": 14,
   "metadata": {
    "tags": []
   },
   "outputs": [],
   "source": [
    "train = np.load(s3.open('{}/{}'.format(bucket, train_key)))\n",
    "test = np.load(s3.open('{}/{}'.format(bucket, test_key)))\n",
    "gray_test = np.load(s3.open('{}/{}'.format(bucket, gray_test_key)))\n",
    "gray_train = np.load(s3.open('{}/{}'.format(bucket, gray_train_key)))"
   ]
  },
  {
   "cell_type": "code",
   "execution_count": 16,
   "metadata": {
    "tags": []
   },
   "outputs": [
    {
     "data": {
      "text/plain": [
       "(800, 128, 128)"
      ]
     },
     "execution_count": 16,
     "metadata": {},
     "output_type": "execute_result"
    }
   ],
   "source": [
    "gray_test.shape"
   ]
  },
  {
   "cell_type": "markdown",
   "metadata": {},
   "source": [
    "img = full_img[2,:,:,:]\n",
    "#img = cv2.cvtColor(np.array(img), cv2.COLOR_Lab2RGB)\n",
    "plt.imshow(np.array(img).astype('int'))"
   ]
  },
  {
   "cell_type": "markdown",
   "metadata": {},
   "source": [
    "COnverting RGB back into Lab"
   ]
  },
  {
   "cell_type": "markdown",
   "metadata": {},
   "source": [
    "Defining Unet architecture"
   ]
  },
  {
   "cell_type": "code",
   "execution_count": 18,
   "metadata": {},
   "outputs": [
    {
     "name": "stdout",
     "output_type": "stream",
     "text": [
      "Batches train=55, test=24\n"
     ]
    }
   ],
   "source": [
    "train_iterator = datagen.flow(train, batch_size=64)\n",
    "test_iterator = datagen.flow(test, batch_size=64)\n",
    "print('Batches train=%d, test=%d' % (len(train_iterator),\n",
    "                                     len(test_iterator)))"
   ]
  },
  {
   "cell_type": "code",
   "execution_count": 21,
   "metadata": {},
   "outputs": [],
   "source": [
    "def UNet():\n",
    "    Xinpt = L.Input([None, None, 1])\n",
    "    X0 = L.Conv2D(64, (3, 3), padding='same')(Xinpt)\n",
    "    X0 = L.BatchNormalization()(X0)\n",
    "    X0 = L.LeakyReLU(alpha=0.2)(X0)    #l,b,64\n",
    "    X0 = L.Conv2D(64, (3, 3), strides=1, padding='same')(X0)\n",
    "    X0 = L.BatchNormalization()(X0)\n",
    "    X0 = L.LeakyReLU(alpha=0.2)(X0)    #l,b,64\n",
    "    \n",
    "    X1 = L.MaxPool2D((2, 2), strides=2)(X0)    #l/2,b/2,64\n",
    "    X1 = L.Conv2D(128, (3, 3), padding='same')(X1)\n",
    "    X1 = L.BatchNormalization()(X1)\n",
    "    X1 = L.LeakyReLU(alpha=0.2)(X1)\n",
    "    X1 = L.Conv2D(128, (3, 3), padding='same')(X1)\n",
    "    X1 = L.BatchNormalization()(X1)\n",
    "    X1 = L.LeakyReLU(alpha=0.2)(X1)    #l/2,b/2,128\n",
    "    \n",
    "    X2 = L.MaxPool2D((2, 2), strides=2)(X1)    #l/4,b/4,128\n",
    "    X2 = L.Conv2D(256, (3, 3), padding='same')(X2)\n",
    "    X2 = L.BatchNormalization()(X2)\n",
    "    X2 = L.LeakyReLU(alpha=0.2)(X2)\n",
    "    X2 = L.Conv2D(256, (3, 3), padding='same')(X2)\n",
    "    X2 = L.BatchNormalization()(X2)\n",
    "    X2 = L.LeakyReLU(alpha=0.2)(X2)    #l/4,b/4,256\n",
    "    \n",
    "    X3 = L.MaxPool2D((2, 2), strides=2)(X2)    #l/8,b/8,256\n",
    "    X3 = L.Conv2D(512, (3, 3), padding='same')(X3)\n",
    "    X3 = L.BatchNormalization()(X3)\n",
    "    X3 = L.LeakyReLU(alpha=0.2)(X3)\n",
    "    X3 = L.Conv2D(512, (3, 3), padding='same')(X3)\n",
    "    X3 = L.BatchNormalization()(X3)\n",
    "    X3 = L.LeakyReLU(alpha=0.2)(X3)    #l/8,b/8,512\n",
    "    \n",
    "    X4 = L.MaxPool2D((2, 2), strides=2)(X3)    #l/16,b/16,512\n",
    "    X4 = L.Conv2D(1024, (3, 3), padding='same')(X4)\n",
    "    X4 = L.BatchNormalization()(X4)\n",
    "    X4 = L.LeakyReLU(alpha=0.2)(X4)\n",
    "    X4 = L.Conv2D(1024, (3, 3), padding='same')(X4)\n",
    "    X4 = L.BatchNormalization()(X4)\n",
    "    X4 = L.LeakyReLU(alpha=0.2)(X4)    #l/16,b/16,1024\n",
    "    \n",
    "    X4 = L.Conv2DTranspose(512, (2, 2), strides=2)(X4)    #l/8,b/8,512\n",
    "    X4 = L.Concatenate()([X3, X4])     #l/8,b/8,1024\n",
    "    X4 = L.Conv2D(512, (3, 3), padding='same')(X4)\n",
    "    X4 = L.BatchNormalization()(X4)\n",
    "    X4 = L.Activation('relu')(X4)\n",
    "    X4 = L.Conv2D(512, (3, 3), padding='same')(X4)\n",
    "    X4 = L.BatchNormalization()(X4)\n",
    "    X4 = L.Activation('relu')(X4)    #l/8,b/8,512\n",
    "    \n",
    "    X3 = L.Conv2DTranspose(256, (2, 2), strides=2)(X4)    #l/4,b.4,256\n",
    "    X3 = L.Concatenate()([X2, X3])     #l/4,b/4,512\n",
    "    X3 = L.Conv2D(256, (3, 3), padding='same')(X3)\n",
    "    X3 = L.BatchNormalization()(X3)\n",
    "    X3 = L.Activation('relu')(X3)\n",
    "    X3 = L.Conv2D(256, (3, 3), padding='same')(X3)\n",
    "    X3 = L.BatchNormalization()(X3)\n",
    "    X3 = L.Activation('relu')(X3)    #l/4,b/4,256\n",
    "    \n",
    "    X2 = L.Conv2DTranspose(128, (2, 2), strides=2)(X3)    #l/2,b/2,128\n",
    "    X2 = L.Concatenate()([X1, X2])     #l/2,b/2,256\n",
    "    X2 = L.Conv2D(128, (3, 3), padding='same')(X2)\n",
    "    X2 = L.BatchNormalization()(X2)\n",
    "    X2 = L.Activation('relu')(X2)\n",
    "    X2 = L.Conv2D(128, (3, 3), padding='same')(X2)\n",
    "    X2 = L.BatchNormalization()(X2)\n",
    "    X2 = L.Activation('relu')(X2)   #l/2,b/2,128\n",
    "    \n",
    "    X1 = L.Conv2DTranspose(64, (2, 2), strides=2)(X2)    #l,b,64\n",
    "    X1 = L.Concatenate()([X0, X1])    #l,b,128\n",
    "    X1 = L.Conv2D(64, (3, 3), padding='same')(X1)\n",
    "    X1 = L.BatchNormalization()(X1)\n",
    "    X1 = L.Activation('relu')(X1)\n",
    "    X1 = L.Conv2D(64, (3, 3), padding='same')(X1)\n",
    "    X1 = L.BatchNormalization()(X1)\n",
    "    X1 = L.Activation('relu')(X1)    #l,b,64\n",
    "    \n",
    "    X0 = L.Conv2D(3, (1, 1), strides=1)(X1)     #l,b,3 \n",
    "    model = Model(inputs=Xinpt, outputs=X0)\n",
    "    return model"
   ]
  },
  {
   "cell_type": "code",
   "execution_count": 22,
   "metadata": {},
   "outputs": [],
   "source": [
    "model = UNet()\n",
    "model.compile('adam', loss='mean_squared_error', metrics=['mae', 'acc'])"
   ]
  },
  {
   "cell_type": "code",
   "execution_count": null,
   "metadata": {},
   "outputs": [
    {
     "name": "stdout",
     "output_type": "stream",
     "text": [
      "Epoch: 1\n"
     ]
    }
   ],
   "source": [
    "from IPython import display\n",
    "for epoch in range(1, 20):\n",
    "    display.clear_output(wait=True)\n",
    "    print('Epoch:', epoch)\n",
    "    model.fit(gray_train, train, batch_size=64, validation_data=(gray_test, test))\n",
    "    sample_images(test, gray_test, 5)\n"
   ]
  },
  {
   "cell_type": "code",
   "execution_count": null,
   "metadata": {},
   "outputs": [],
   "source": [
    "model.save('unet.hdf5')"
   ]
  },
  {
   "cell_type": "code",
   "execution_count": null,
   "metadata": {},
   "outputs": [],
   "source": [
    "sagemaker_session = sagemaker.Session()\n",
    "\n",
    "bucket = \"recolorising\"\n",
    "prefix = \"model\"\n",
    "\n",
    "role = sagemaker.get_execution_role()"
   ]
  },
  {
   "cell_type": "code",
   "execution_count": null,
   "metadata": {},
   "outputs": [],
   "source": [
    "inputs = sagemaker_session.upload_data(path=\"unet.hdf5\", bucket=bucket, key_prefix=prefix)\n",
    "print(\"input spec (in this case, just an S3 path): {}\".format(inputs))"
   ]
  }
 ],
 "metadata": {
  "environment": {
   "kernel": "python3",
   "name": "tf2-gpu.2-11.m110",
   "type": "gcloud",
   "uri": "gcr.io/deeplearning-platform-release/tf2-gpu.2-11:m110"
  },
  "kernelspec": {
   "display_name": "conda_tensorflow2_p310",
   "language": "python",
   "name": "conda_tensorflow2_p310"
  },
  "language_info": {
   "codemirror_mode": {
    "name": "ipython",
    "version": 3
   },
   "file_extension": ".py",
   "mimetype": "text/x-python",
   "name": "python",
   "nbconvert_exporter": "python",
   "pygments_lexer": "ipython3",
   "version": "3.10.12"
  }
 },
 "nbformat": 4,
 "nbformat_minor": 4
}
