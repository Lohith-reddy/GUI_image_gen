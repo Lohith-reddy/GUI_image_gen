{
 "cells": [
  {
   "cell_type": "code",
   "execution_count": 1,
   "id": "141eb32a-d654-46c8-bba6-c297d61b45fc",
   "metadata": {
    "tags": []
   },
   "outputs": [],
   "source": [
    "import os\n",
    "import sagemaker\n",
    "from sagemaker import get_execution_role\n",
    "from sagemaker.tensorflow import TensorFlow\n",
    "\n",
    "sagemaker_session = sagemaker.Session()\n",
    "\n",
    "role = get_execution_role()\n",
    "region = sagemaker_session.boto_session.region_name"
   ]
  },
  {
   "cell_type": "code",
   "execution_count": 2,
   "id": "be2d817d-8f82-4453-bfde-6fb9b611c7c1",
   "metadata": {},
   "outputs": [],
   "source": [
    "mnist_estimator = TensorFlow(entry_point='Unet.ipynb',\n",
    "                             role=role,\n",
    "                             instance_count=4,\n",
    "                             instance_type='ml.m5.xlarge',\n",
    "                             framework_version='2.1.0',\n",
    "                             py_version='py3',\n",
    "                             distribution={'parameter_server': {'enabled': True}\n",
    "                                           }\n",
    "                             )"
   ]
  }
 ],
 "metadata": {
  "kernelspec": {
   "display_name": "conda_python3",
   "language": "python",
   "name": "conda_python3"
  },
  "language_info": {
   "codemirror_mode": {
    "name": "ipython",
    "version": 3
   },
   "file_extension": ".py",
   "mimetype": "text/x-python",
   "name": "python",
   "nbconvert_exporter": "python",
   "pygments_lexer": "ipython3",
   "version": "3.10.12"
  }
 },
 "nbformat": 4,
 "nbformat_minor": 5
}
