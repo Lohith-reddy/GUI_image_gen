{
 "cells": [
  {
   "cell_type": "markdown",
   "metadata": {},
   "source": [
    "# Import required packages"
   ]
  },
  {
   "cell_type": "code",
   "execution_count": 1,
   "metadata": {},
   "outputs": [],
   "source": [
    "from os import listdir\n",
    "from pickle import load\n",
    "import numpy as np\n",
    "import cv2\n",
    "import pandas as pd\n",
    "import matplotlib.pyplot as plt\n",
    "import tensorflow as tf\n",
    "import gc"
   ]
  },
  {
   "cell_type": "code",
   "execution_count": 2,
   "metadata": {},
   "outputs": [],
   "source": [
    "import keras.layers as L\n",
    "from keras.preprocessing.image import ImageDataGenerator\n",
    "from keras.layers import Conv2D\n",
    "from keras.layers import UpSampling2D\n",
    "from keras.models import Model\n",
    "from keras.layers import Input\n",
    "from keras.layers import Dense\n",
    "from keras.layers import Dropout\n",
    "from keras.layers import RepeatVector\n",
    "from keras.layers import Reshape\n",
    "from keras.layers import concatenate\n",
    "from keras.utils import plot_model"
   ]
  },
  {
   "cell_type": "markdown",
   "metadata": {},
   "source": [
    "# reading multiple ab files into one object using a loop "
   ]
  },
  {
   "cell_type": "code",
   "execution_count": 3,
   "metadata": {},
   "outputs": [
    {
     "name": "stdout",
     "output_type": "stream",
     "text": [
      "(10000, 224, 224, 2)\n"
     ]
    }
   ],
   "source": [
    "path = \"../dataset/ab/ab/\"\n",
    "ab_list = listdir(path)\n",
    "ab=[]\n",
    "for i in range(0,1): #use len(ab_list) in place of 1 to load all files\n",
    "    p = path + \"/ab\"+str(i+1)+\".npy\"\n",
    "    if i==0:\n",
    "        ab = np.load(p)\n",
    "        print(ab.shape)\n",
    "    else:\n",
    "        ab= np.concatenate((ab,np.load(p)))\n",
    "        print(ab.shape)\n",
    "ab = tf.convert_to_tensor(ab)"
   ]
  },
  {
   "cell_type": "markdown",
   "metadata": {},
   "source": [
    "Importing L channel"
   ]
  },
  {
   "cell_type": "code",
   "execution_count": 4,
   "metadata": {},
   "outputs": [],
   "source": [
    "path_l = \"../dataset/l/gray_scale.npy\"\n",
    "l = tf.convert_to_tensor(np.load(path_l))\n",
    "l = tf.expand_dims(l, axis=3)"
   ]
  },
  {
   "cell_type": "markdown",
   "metadata": {},
   "source": [
    "Limiting the training size to 500"
   ]
  },
  {
   "cell_type": "code",
   "execution_count": 5,
   "metadata": {},
   "outputs": [],
   "source": [
    "l = l[:500,:,:,:]\n",
    "ab = ab[:500,:,:,:]"
   ]
  },
  {
   "cell_type": "markdown",
   "metadata": {},
   "source": [
    "concatenating the L and ab layers to create full pictures"
   ]
  },
  {
   "cell_type": "code",
   "execution_count": 54,
   "metadata": {},
   "outputs": [
    {
     "data": {
      "text/plain": [
       "TensorShape([500, 224, 224, 3])"
      ]
     },
     "execution_count": 54,
     "metadata": {},
     "output_type": "execute_result"
    }
   ],
   "source": [
    "full_img = tf.concat((l,ab),axis = 3)\n",
    "full_img.shape"
   ]
  },
  {
   "cell_type": "markdown",
   "metadata": {},
   "source": [
    "converting lab into rgb for effective downsampling"
   ]
  },
  {
   "cell_type": "code",
   "execution_count": null,
   "metadata": {},
   "outputs": [
    {
     "name": "stdout",
     "output_type": "stream",
     "text": [
      "(224, 224, 3)\n"
     ]
    }
   ],
   "source": [
    "full_img_rgb = []\n",
    "for i in range(0,full_img.shape[0]):\n",
    "     if i==0:\n",
    "          full_img_rgb = cv2.cvtColor(np.array(full_img[i,:,:,:]),cv2.COLOR_Lab2RGB)\n",
    "          print(full_img_rgb.shape)\n",
    "          full_img_rgb=np.expand_dims(full_img_rgb,0)\n",
    "     else:\n",
    "          full_img_rgb = np.append(full_img_rgb,\n",
    "                                         np.expand_dims(cv2.cvtColor(np.array(full_img[i,:,:,:]),cv2.COLOR_Lab2RGB),0),axis=0)\n",
    "full_img_rgb = tf.convert_to_tensor(full_img_rgb)"
   ]
  },
  {
   "cell_type": "markdown",
   "metadata": {},
   "source": [
    "Resizing the images to 128*128 p"
   ]
  },
  {
   "cell_type": "markdown",
   "metadata": {},
   "source": [
    "img = full_img_rgb[2,:,:,:]\n",
    "#img = cv2.cvtColor(np.array(img), cv2.COLOR_Lab2RGB)\n",
    "plt.imshow(img)"
   ]
  },
  {
   "cell_type": "code",
   "execution_count": 55,
   "metadata": {},
   "outputs": [],
   "source": [
    "full_img = tf.image.resize_with_pad(\n",
    "                full_img_rgb,\n",
    "                128,128,\"bilinear\"\n",
    "                \n",
    ")"
   ]
  },
  {
   "cell_type": "markdown",
   "metadata": {},
   "source": [
    "freeing up memory"
   ]
  },
  {
   "cell_type": "code",
   "execution_count": 53,
   "metadata": {},
   "outputs": [
    {
     "data": {
      "text/plain": [
       "318"
      ]
     },
     "execution_count": 53,
     "metadata": {},
     "output_type": "execute_result"
    }
   ],
   "source": [
    "del full_img_rgb\n",
    "gc.collect()"
   ]
  },
  {
   "cell_type": "markdown",
   "metadata": {},
   "source": [
    "img = full_img[2,:,:,:]\n",
    "#img = cv2.cvtColor(np.array(img), cv2.COLOR_Lab2RGB)\n",
    "plt.imshow(np.array(img).astype('int'))"
   ]
  },
  {
   "cell_type": "markdown",
   "metadata": {},
   "source": [
    "COnverting RGB back into Lab"
   ]
  },
  {
   "cell_type": "code",
   "execution_count": 63,
   "metadata": {},
   "outputs": [],
   "source": [
    "full_img_lab = []\n",
    "for i in range(0,full_img.shape[0]):\n",
    "     if i==0:\n",
    "          full_img_lab = cv2.cvtColor(np.array(full_img[i,:,:,:]),cv2.COLOR_RGB2Lab)\n",
    "          #print(full_img_lab.shape)\n",
    "          full_img_lab=np.expand_dims(full_img_lab,0)\n",
    "     else:\n",
    "          full_img_lab = np.append(full_img_lab,\n",
    "                                         np.expand_dims(cv2.cvtColor(np.array(full_img[i,:,:,:]),cv2.COLOR_RGB2Lab),0),axis=0)\n",
    "full_img = tf.convert_to_tensor(full_img_lab)"
   ]
  },
  {
   "cell_type": "code",
   "execution_count": 64,
   "metadata": {},
   "outputs": [
    {
     "data": {
      "text/plain": [
       "1491"
      ]
     },
     "execution_count": 64,
     "metadata": {},
     "output_type": "execute_result"
    }
   ],
   "source": [
    "del full_img_lab, ab, l\n",
    "gc.collect()"
   ]
  },
  {
   "cell_type": "markdown",
   "metadata": {},
   "source": [
    "# train and test split 70:30"
   ]
  },
  {
   "cell_type": "code",
   "execution_count": 20,
   "metadata": {},
   "outputs": [],
   "source": [
    "train = full_img[:350,:,:,:]\n",
    "test = full_img[350:,:,:,:]"
   ]
  },
  {
   "cell_type": "markdown",
   "metadata": {},
   "source": [
    "Normalising the picture data"
   ]
  },
  {
   "cell_type": "code",
   "execution_count": 17,
   "metadata": {},
   "outputs": [],
   "source": [
    "train_datagen = ImageDataGenerator(rescale = 1./255)\n",
    "datagen = ImageDataGenerator(featurewise_center=True,\n",
    "                            featurewise_std_normalization=True)\n",
    "datagen.fit(test)"
   ]
  },
  {
   "cell_type": "code",
   "execution_count": 18,
   "metadata": {},
   "outputs": [
    {
     "name": "stdout",
     "output_type": "stream",
     "text": [
      "Batches train=55, test=24\n"
     ]
    }
   ],
   "source": [
    "train_iterator = datagen.flow(train, batch_size=64)\n",
    "test_iterator = datagen.flow(test, batch_size=64)\n",
    "print('Batches train=%d, test=%d' % (len(train_iterator),\n",
    "                                     len(test_iterator)))"
   ]
  },
  {
   "cell_type": "code",
   "execution_count": 20,
   "metadata": {},
   "outputs": [],
   "source": [
    "gray_train = train[:,:,:,1]\n",
    "gray_test = test[:,:,:,1]"
   ]
  },
  {
   "cell_type": "code",
   "execution_count": 21,
   "metadata": {},
   "outputs": [],
   "source": [
    "def UNet():\n",
    "    Xinpt = L.Input([None, None, 1])\n",
    "    X0 = L.Conv2D(64, (3, 3), padding='same')(Xinpt)\n",
    "    X0 = L.BatchNormalization()(X0)\n",
    "    X0 = L.LeakyReLU(alpha=0.2)(X0)    #l,b,64\n",
    "    X0 = L.Conv2D(64, (3, 3), strides=1, padding='same')(X0)\n",
    "    X0 = L.BatchNormalization()(X0)\n",
    "    X0 = L.LeakyReLU(alpha=0.2)(X0)    #l,b,64\n",
    "    \n",
    "    X1 = L.MaxPool2D((2, 2), strides=2)(X0)    #l/2,b/2,64\n",
    "    X1 = L.Conv2D(128, (3, 3), padding='same')(X1)\n",
    "    X1 = L.BatchNormalization()(X1)\n",
    "    X1 = L.LeakyReLU(alpha=0.2)(X1)\n",
    "    X1 = L.Conv2D(128, (3, 3), padding='same')(X1)\n",
    "    X1 = L.BatchNormalization()(X1)\n",
    "    X1 = L.LeakyReLU(alpha=0.2)(X1)    #l/2,b/2,128\n",
    "    \n",
    "    X2 = L.MaxPool2D((2, 2), strides=2)(X1)    #l/4,b/4,128\n",
    "    X2 = L.Conv2D(256, (3, 3), padding='same')(X2)\n",
    "    X2 = L.BatchNormalization()(X2)\n",
    "    X2 = L.LeakyReLU(alpha=0.2)(X2)\n",
    "    X2 = L.Conv2D(256, (3, 3), padding='same')(X2)\n",
    "    X2 = L.BatchNormalization()(X2)\n",
    "    X2 = L.LeakyReLU(alpha=0.2)(X2)    #l/4,b/4,256\n",
    "    \n",
    "    X3 = L.MaxPool2D((2, 2), strides=2)(X2)    #l/8,b/8,256\n",
    "    X3 = L.Conv2D(512, (3, 3), padding='same')(X3)\n",
    "    X3 = L.BatchNormalization()(X3)\n",
    "    X3 = L.LeakyReLU(alpha=0.2)(X3)\n",
    "    X3 = L.Conv2D(512, (3, 3), padding='same')(X3)\n",
    "    X3 = L.BatchNormalization()(X3)\n",
    "    X3 = L.LeakyReLU(alpha=0.2)(X3)    #l/8,b/8,512\n",
    "    \n",
    "    X4 = L.MaxPool2D((2, 2), strides=2)(X3)    #l/16,b/16,512\n",
    "    X4 = L.Conv2D(1024, (3, 3), padding='same')(X4)\n",
    "    X4 = L.BatchNormalization()(X4)\n",
    "    X4 = L.LeakyReLU(alpha=0.2)(X4)\n",
    "    X4 = L.Conv2D(1024, (3, 3), padding='same')(X4)\n",
    "    X4 = L.BatchNormalization()(X4)\n",
    "    X4 = L.LeakyReLU(alpha=0.2)(X4)    #l/16,b/16,1024\n",
    "    \n",
    "    X4 = L.Conv2DTranspose(512, (2, 2), strides=2)(X4)    #l/8,b/8,512\n",
    "    X4 = L.Concatenate()([X3, X4])     #l/8,b/8,1024\n",
    "    X4 = L.Conv2D(512, (3, 3), padding='same')(X4)\n",
    "    X4 = L.BatchNormalization()(X4)\n",
    "    X4 = L.Activation('relu')(X4)\n",
    "    X4 = L.Conv2D(512, (3, 3), padding='same')(X4)\n",
    "    X4 = L.BatchNormalization()(X4)\n",
    "    X4 = L.Activation('relu')(X4)    #l/8,b/8,512\n",
    "    \n",
    "    X3 = L.Conv2DTranspose(256, (2, 2), strides=2)(X4)    #l/4,b.4,256\n",
    "    X3 = L.Concatenate()([X2, X3])     #l/4,b/4,512\n",
    "    X3 = L.Conv2D(256, (3, 3), padding='same')(X3)\n",
    "    X3 = L.BatchNormalization()(X3)\n",
    "    X3 = L.Activation('relu')(X3)\n",
    "    X3 = L.Conv2D(256, (3, 3), padding='same')(X3)\n",
    "    X3 = L.BatchNormalization()(X3)\n",
    "    X3 = L.Activation('relu')(X3)    #l/4,b/4,256\n",
    "    \n",
    "    X2 = L.Conv2DTranspose(128, (2, 2), strides=2)(X3)    #l/2,b/2,128\n",
    "    X2 = L.Concatenate()([X1, X2])     #l/2,b/2,256\n",
    "    X2 = L.Conv2D(128, (3, 3), padding='same')(X2)\n",
    "    X2 = L.BatchNormalization()(X2)\n",
    "    X2 = L.Activation('relu')(X2)\n",
    "    X2 = L.Conv2D(128, (3, 3), padding='same')(X2)\n",
    "    X2 = L.BatchNormalization()(X2)\n",
    "    X2 = L.Activation('relu')(X2)   #l/2,b/2,128\n",
    "    \n",
    "    X1 = L.Conv2DTranspose(64, (2, 2), strides=2)(X2)    #l,b,64\n",
    "    X1 = L.Concatenate()([X0, X1])    #l,b,128\n",
    "    X1 = L.Conv2D(64, (3, 3), padding='same')(X1)\n",
    "    X1 = L.BatchNormalization()(X1)\n",
    "    X1 = L.Activation('relu')(X1)\n",
    "    X1 = L.Conv2D(64, (3, 3), padding='same')(X1)\n",
    "    X1 = L.BatchNormalization()(X1)\n",
    "    X1 = L.Activation('relu')(X1)    #l,b,64\n",
    "    \n",
    "    X0 = L.Conv2D(3, (1, 1), strides=1)(X1)     #l,b,3 \n",
    "    model = Model(inputs=Xinpt, outputs=X0)\n",
    "    return model"
   ]
  },
  {
   "cell_type": "code",
   "execution_count": 22,
   "metadata": {},
   "outputs": [],
   "source": [
    "model = UNet()\n",
    "model.compile('adam', loss='mean_squared_error', metrics=['mae', 'acc'])"
   ]
  },
  {
   "cell_type": "code",
   "execution_count": null,
   "metadata": {},
   "outputs": [
    {
     "name": "stdout",
     "output_type": "stream",
     "text": [
      "Epoch: 1\n"
     ]
    }
   ],
   "source": [
    "from IPython import display\n",
    "for epoch in range(1, 20):\n",
    "    display.clear_output(wait=True)\n",
    "    print('Epoch:', epoch)\n",
    "    model.fit(gray_train, train, batch_size=64, validation_data=(gray_test, test))\n",
    "    sample_images(test, gray_test, 5)\n",
    "    model.save('unet.hdf5')"
   ]
  },
  {
   "cell_type": "code",
   "execution_count": null,
   "metadata": {},
   "outputs": [],
   "source": []
  }
 ],
 "metadata": {
  "environment": {
   "kernel": "python3",
   "name": "tf2-gpu.2-11.m110",
   "type": "gcloud",
   "uri": "gcr.io/deeplearning-platform-release/tf2-gpu.2-11:m110"
  },
  "kernelspec": {
   "display_name": "Python 3",
   "language": "python",
   "name": "python3"
  },
  "language_info": {
   "codemirror_mode": {
    "name": "ipython",
    "version": 3
   },
   "file_extension": ".py",
   "mimetype": "text/x-python",
   "name": "python",
   "nbconvert_exporter": "python",
   "pygments_lexer": "ipython3",
   "version": "3.10.11"
  }
 },
 "nbformat": 4,
 "nbformat_minor": 4
}
